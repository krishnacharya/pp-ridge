{
 "cells": [
  {
   "cell_type": "code",
   "execution_count": 42,
   "id": "cd6ee25d",
   "metadata": {},
   "outputs": [],
   "source": [
    "import sys\n",
    "sys.path.append('../')\n",
    "from src.utils import *\n",
    "from src.estimator import *"
   ]
  },
  {
   "cell_type": "code",
   "execution_count": 44,
   "id": "cbff7ae7",
   "metadata": {},
   "outputs": [],
   "source": [
    "import pandas as pd\n",
    "import numpy as np\n",
    "import matplotlib.pyplot as plt\n",
    "from sklearn.preprocessing import normalize, minmax_scale\n",
    "from sklearn.model_selection import train_test_split"
   ]
  },
  {
   "cell_type": "code",
   "execution_count": 23,
   "id": "00ef0eee",
   "metadata": {},
   "outputs": [],
   "source": [
    "# df = pd.read_csv('plevel_34_43_23_result_sqrtdnew.csv')\n",
    "df = pd.read_csv('plevel_34_43_23_result_lastsqrt.csv')"
   ]
  },
  {
   "cell_type": "code",
   "execution_count": 24,
   "id": "750a0237",
   "metadata": {},
   "outputs": [
    {
     "data": {
      "text/plain": [
       "Index(['d', 'n', 'lamb', 'pp_train_mean', 'pp_train_std', 'pp_test_mean',\n",
       "       'pp_test_std', 'jorg_train_mean', 'jorg_train_std', 'jorg_test_mean',\n",
       "       'jorg_test_std'],\n",
       "      dtype='object')"
      ]
     },
     "execution_count": 24,
     "metadata": {},
     "output_type": "execute_result"
    }
   ],
   "source": [
    "df.columns"
   ]
  },
  {
   "cell_type": "code",
   "execution_count": 25,
   "id": "91745f95",
   "metadata": {},
   "outputs": [
    {
     "name": "stdout",
     "output_type": "stream",
     "text": [
      "df1:  False    176\n",
      "dtype: int64\n",
      "df2 :  False    176\n",
      "dtype: int64\n",
      "df3:  False    176\n",
      "dtype: int64\n",
      "df4:  False    176\n",
      "dtype: int64\n"
     ]
    }
   ],
   "source": [
    "df1 = (df[\"jorg_train_mean\"] <= df[\"pp_train_mean\"])\n",
    "df2 = (df[\"jorg_train_std\"] <= df[\"pp_train_std\"])\n",
    "df3 = (df[\"jorg_test_mean\"] <= df[\"pp_test_mean\"])\n",
    "df4 = (df[\"jorg_test_std\"] <= df[\"pp_test_std\"])\n",
    "\n",
    "print(\"df1: \", df1.value_counts())\n",
    "print(\"df2 : \", df2.value_counts())\n",
    "print(\"df3: \", df3.value_counts())\n",
    "print(\"df4: \", df4.value_counts())"
   ]
  },
  {
   "cell_type": "code",
   "execution_count": 20,
   "id": "0edf6bc9",
   "metadata": {},
   "outputs": [
    {
     "data": {
      "text/plain": [
       "(array([ 10,  50, 100, 200]),\n",
       " array([10, 20, 30, 40]),\n",
       " array([ 0.1,  0.5,  1. ,  3. ,  5. ,  7. ,  9. , 10. , 11. , 13. , 15. ,\n",
       "         0.2,  2. ,  6. , 14. , 18. , 20. , 22. , 26. , 30. ,  0.3,  1.5,\n",
       "        21. , 27. , 33. , 39. , 45. ,  0.4,  4. , 12. , 28. , 36. , 40. ,\n",
       "        44. , 52. , 60. ]))"
      ]
     },
     "execution_count": 20,
     "metadata": {},
     "output_type": "execute_result"
    }
   ],
   "source": [
    "d, n, lambs =df['d'].unique(), df['n'].unique(), df['lamb'].unique()\n",
    "n, d, lambs"
   ]
  },
  {
   "cell_type": "code",
   "execution_count": 53,
   "id": "0a65ffde",
   "metadata": {},
   "outputs": [
    {
     "data": {
      "text/plain": [
       "(array([ 10,  50, 100, 200]),\n",
       " array([10, 20, 30, 40]),\n",
       " array([0.01, 0.05, 0.1 , 0.3 , 0.5 , 0.7 , 0.9 , 1.  , 1.1 , 1.3 , 1.5 ]),\n",
       " 16)"
      ]
     },
     "execution_count": 53,
     "metadata": {},
     "output_type": "execute_result"
    }
   ],
   "source": [
    "# d, n, lambs =df['d'].unique(), df['n'].unique(), df['lamb'].unique()\n",
    "# n, d, lambs, len(n)*len(d)"
   ]
  },
  {
   "cell_type": "code",
   "execution_count": 28,
   "id": "603efc2d",
   "metadata": {},
   "outputs": [
    {
     "data": {
      "text/html": [
       "<div>\n",
       "<style scoped>\n",
       "    .dataframe tbody tr th:only-of-type {\n",
       "        vertical-align: middle;\n",
       "    }\n",
       "\n",
       "    .dataframe tbody tr th {\n",
       "        vertical-align: top;\n",
       "    }\n",
       "\n",
       "    .dataframe thead th {\n",
       "        text-align: right;\n",
       "    }\n",
       "</style>\n",
       "<table border=\"1\" class=\"dataframe\">\n",
       "  <thead>\n",
       "    <tr style=\"text-align: right;\">\n",
       "      <th></th>\n",
       "      <th>n</th>\n",
       "      <th>d</th>\n",
       "      <th>lamb</th>\n",
       "      <th>pp_test_mean</th>\n",
       "      <th>jorg_test_mean</th>\n",
       "    </tr>\n",
       "  </thead>\n",
       "  <tbody>\n",
       "    <tr>\n",
       "      <th>0</th>\n",
       "      <td>10</td>\n",
       "      <td>10</td>\n",
       "      <td>0.1</td>\n",
       "      <td>997.284357</td>\n",
       "      <td>1227.802650</td>\n",
       "    </tr>\n",
       "    <tr>\n",
       "      <th>1</th>\n",
       "      <td>10</td>\n",
       "      <td>10</td>\n",
       "      <td>0.5</td>\n",
       "      <td>97.980405</td>\n",
       "      <td>122.082100</td>\n",
       "    </tr>\n",
       "    <tr>\n",
       "      <th>2</th>\n",
       "      <td>10</td>\n",
       "      <td>10</td>\n",
       "      <td>1.0</td>\n",
       "      <td>37.361449</td>\n",
       "      <td>46.271778</td>\n",
       "    </tr>\n",
       "    <tr>\n",
       "      <th>3</th>\n",
       "      <td>10</td>\n",
       "      <td>10</td>\n",
       "      <td>3.0</td>\n",
       "      <td>8.508283</td>\n",
       "      <td>10.502711</td>\n",
       "    </tr>\n",
       "    <tr>\n",
       "      <th>4</th>\n",
       "      <td>10</td>\n",
       "      <td>10</td>\n",
       "      <td>5.0</td>\n",
       "      <td>4.367016</td>\n",
       "      <td>5.369139</td>\n",
       "    </tr>\n",
       "    <tr>\n",
       "      <th>...</th>\n",
       "      <td>...</td>\n",
       "      <td>...</td>\n",
       "      <td>...</td>\n",
       "      <td>...</td>\n",
       "      <td>...</td>\n",
       "    </tr>\n",
       "    <tr>\n",
       "      <th>156</th>\n",
       "      <td>100</td>\n",
       "      <td>40</td>\n",
       "      <td>4.0</td>\n",
       "      <td>7.743301</td>\n",
       "      <td>8.926919</td>\n",
       "    </tr>\n",
       "    <tr>\n",
       "      <th>157</th>\n",
       "      <td>100</td>\n",
       "      <td>40</td>\n",
       "      <td>12.0</td>\n",
       "      <td>1.730290</td>\n",
       "      <td>2.009481</td>\n",
       "    </tr>\n",
       "    <tr>\n",
       "      <th>165</th>\n",
       "      <td>200</td>\n",
       "      <td>40</td>\n",
       "      <td>0.4</td>\n",
       "      <td>101.907949</td>\n",
       "      <td>116.783169</td>\n",
       "    </tr>\n",
       "    <tr>\n",
       "      <th>166</th>\n",
       "      <td>200</td>\n",
       "      <td>40</td>\n",
       "      <td>2.0</td>\n",
       "      <td>10.048276</td>\n",
       "      <td>11.687731</td>\n",
       "    </tr>\n",
       "    <tr>\n",
       "      <th>167</th>\n",
       "      <td>200</td>\n",
       "      <td>40</td>\n",
       "      <td>4.0</td>\n",
       "      <td>3.863912</td>\n",
       "      <td>4.494980</td>\n",
       "    </tr>\n",
       "  </tbody>\n",
       "</table>\n",
       "<p>91 rows × 5 columns</p>\n",
       "</div>"
      ],
      "text/plain": [
       "       n   d  lamb  pp_test_mean  jorg_test_mean\n",
       "0     10  10   0.1    997.284357     1227.802650\n",
       "1     10  10   0.5     97.980405      122.082100\n",
       "2     10  10   1.0     37.361449       46.271778\n",
       "3     10  10   3.0      8.508283       10.502711\n",
       "4     10  10   5.0      4.367016        5.369139\n",
       "..   ...  ..   ...           ...             ...\n",
       "156  100  40   4.0      7.743301        8.926919\n",
       "157  100  40  12.0      1.730290        2.009481\n",
       "165  200  40   0.4    101.907949      116.783169\n",
       "166  200  40   2.0     10.048276       11.687731\n",
       "167  200  40   4.0      3.863912        4.494980\n",
       "\n",
       "[91 rows x 5 columns]"
      ]
     },
     "execution_count": 28,
     "metadata": {},
     "output_type": "execute_result"
    }
   ],
   "source": [
    "df_poor_generalization = df[df['pp_test_mean'] >= 1][['n','d','lamb', 'pp_test_mean','jorg_test_mean']]\n",
    "df_poor_generalization.sort_values(by=['pp_test_mean'], ascending=True)\n",
    "df_poor_generalization"
   ]
  },
  {
   "cell_type": "code",
   "execution_count": 30,
   "id": "99302dd6",
   "metadata": {},
   "outputs": [
    {
     "data": {
      "text/html": [
       "<div>\n",
       "<style scoped>\n",
       "    .dataframe tbody tr th:only-of-type {\n",
       "        vertical-align: middle;\n",
       "    }\n",
       "\n",
       "    .dataframe tbody tr th {\n",
       "        vertical-align: top;\n",
       "    }\n",
       "\n",
       "    .dataframe thead th {\n",
       "        text-align: right;\n",
       "    }\n",
       "</style>\n",
       "<table border=\"1\" class=\"dataframe\">\n",
       "  <thead>\n",
       "    <tr style=\"text-align: right;\">\n",
       "      <th></th>\n",
       "      <th>n</th>\n",
       "      <th>d</th>\n",
       "      <th>lamb</th>\n",
       "      <th>pp_test_mean</th>\n",
       "      <th>jorg_test_mean</th>\n",
       "    </tr>\n",
       "  </thead>\n",
       "  <tbody>\n",
       "    <tr>\n",
       "      <th>count</th>\n",
       "      <td>91.000000</td>\n",
       "      <td>91.000000</td>\n",
       "      <td>91.000000</td>\n",
       "      <td>91.000000</td>\n",
       "      <td>91.000000</td>\n",
       "    </tr>\n",
       "    <tr>\n",
       "      <th>mean</th>\n",
       "      <td>58.681319</td>\n",
       "      <td>25.494505</td>\n",
       "      <td>10.153846</td>\n",
       "      <td>101.021300</td>\n",
       "      <td>123.361858</td>\n",
       "    </tr>\n",
       "    <tr>\n",
       "      <th>std</th>\n",
       "      <td>64.208147</td>\n",
       "      <td>11.181705</td>\n",
       "      <td>13.407728</td>\n",
       "      <td>306.205313</td>\n",
       "      <td>379.389996</td>\n",
       "    </tr>\n",
       "    <tr>\n",
       "      <th>min</th>\n",
       "      <td>10.000000</td>\n",
       "      <td>10.000000</td>\n",
       "      <td>0.100000</td>\n",
       "      <td>1.016637</td>\n",
       "      <td>1.241798</td>\n",
       "    </tr>\n",
       "    <tr>\n",
       "      <th>25%</th>\n",
       "      <td>10.000000</td>\n",
       "      <td>20.000000</td>\n",
       "      <td>1.000000</td>\n",
       "      <td>2.554185</td>\n",
       "      <td>3.123761</td>\n",
       "    </tr>\n",
       "    <tr>\n",
       "      <th>50%</th>\n",
       "      <td>50.000000</td>\n",
       "      <td>30.000000</td>\n",
       "      <td>3.000000</td>\n",
       "      <td>6.851336</td>\n",
       "      <td>8.409845</td>\n",
       "    </tr>\n",
       "    <tr>\n",
       "      <th>75%</th>\n",
       "      <td>100.000000</td>\n",
       "      <td>40.000000</td>\n",
       "      <td>14.500000</td>\n",
       "      <td>44.713838</td>\n",
       "      <td>52.286956</td>\n",
       "    </tr>\n",
       "    <tr>\n",
       "      <th>max</th>\n",
       "      <td>200.000000</td>\n",
       "      <td>40.000000</td>\n",
       "      <td>60.000000</td>\n",
       "      <td>1808.997553</td>\n",
       "      <td>2260.876973</td>\n",
       "    </tr>\n",
       "  </tbody>\n",
       "</table>\n",
       "</div>"
      ],
      "text/plain": [
       "                n          d       lamb  pp_test_mean  jorg_test_mean\n",
       "count   91.000000  91.000000  91.000000     91.000000       91.000000\n",
       "mean    58.681319  25.494505  10.153846    101.021300      123.361858\n",
       "std     64.208147  11.181705  13.407728    306.205313      379.389996\n",
       "min     10.000000  10.000000   0.100000      1.016637        1.241798\n",
       "25%     10.000000  20.000000   1.000000      2.554185        3.123761\n",
       "50%     50.000000  30.000000   3.000000      6.851336        8.409845\n",
       "75%    100.000000  40.000000  14.500000     44.713838       52.286956\n",
       "max    200.000000  40.000000  60.000000   1808.997553     2260.876973"
      ]
     },
     "execution_count": 30,
     "metadata": {},
     "output_type": "execute_result"
    }
   ],
   "source": [
    "df_poor_generalization.describe()"
   ]
  },
  {
   "cell_type": "code",
   "execution_count": 27,
   "id": "ceb588d3",
   "metadata": {},
   "outputs": [
    {
     "data": {
      "text/html": [
       "<div>\n",
       "<style scoped>\n",
       "    .dataframe tbody tr th:only-of-type {\n",
       "        vertical-align: middle;\n",
       "    }\n",
       "\n",
       "    .dataframe tbody tr th {\n",
       "        vertical-align: top;\n",
       "    }\n",
       "\n",
       "    .dataframe thead th {\n",
       "        text-align: right;\n",
       "    }\n",
       "</style>\n",
       "<table border=\"1\" class=\"dataframe\">\n",
       "  <thead>\n",
       "    <tr style=\"text-align: right;\">\n",
       "      <th></th>\n",
       "      <th>n</th>\n",
       "      <th>d</th>\n",
       "      <th>lamb</th>\n",
       "      <th>pp_test_mean</th>\n",
       "      <th>jorg_test_mean</th>\n",
       "    </tr>\n",
       "  </thead>\n",
       "  <tbody>\n",
       "    <tr>\n",
       "      <th>15</th>\n",
       "      <td>50</td>\n",
       "      <td>10</td>\n",
       "      <td>5.0</td>\n",
       "      <td>0.874519</td>\n",
       "      <td>1.024707</td>\n",
       "    </tr>\n",
       "    <tr>\n",
       "      <th>16</th>\n",
       "      <td>50</td>\n",
       "      <td>10</td>\n",
       "      <td>7.0</td>\n",
       "      <td>0.574642</td>\n",
       "      <td>0.668768</td>\n",
       "    </tr>\n",
       "    <tr>\n",
       "      <th>17</th>\n",
       "      <td>50</td>\n",
       "      <td>10</td>\n",
       "      <td>9.0</td>\n",
       "      <td>0.425271</td>\n",
       "      <td>0.495028</td>\n",
       "    </tr>\n",
       "    <tr>\n",
       "      <th>18</th>\n",
       "      <td>50</td>\n",
       "      <td>10</td>\n",
       "      <td>10.0</td>\n",
       "      <td>0.375018</td>\n",
       "      <td>0.437510</td>\n",
       "    </tr>\n",
       "    <tr>\n",
       "      <th>19</th>\n",
       "      <td>50</td>\n",
       "      <td>10</td>\n",
       "      <td>11.0</td>\n",
       "      <td>0.325831</td>\n",
       "      <td>0.383477</td>\n",
       "    </tr>\n",
       "    <tr>\n",
       "      <th>...</th>\n",
       "      <td>...</td>\n",
       "      <td>...</td>\n",
       "      <td>...</td>\n",
       "      <td>...</td>\n",
       "      <td>...</td>\n",
       "    </tr>\n",
       "    <tr>\n",
       "      <th>171</th>\n",
       "      <td>200</td>\n",
       "      <td>40</td>\n",
       "      <td>36.0</td>\n",
       "      <td>0.216584</td>\n",
       "      <td>0.250591</td>\n",
       "    </tr>\n",
       "    <tr>\n",
       "      <th>172</th>\n",
       "      <td>200</td>\n",
       "      <td>40</td>\n",
       "      <td>40.0</td>\n",
       "      <td>0.192189</td>\n",
       "      <td>0.221195</td>\n",
       "    </tr>\n",
       "    <tr>\n",
       "      <th>173</th>\n",
       "      <td>200</td>\n",
       "      <td>40</td>\n",
       "      <td>44.0</td>\n",
       "      <td>0.169382</td>\n",
       "      <td>0.194741</td>\n",
       "    </tr>\n",
       "    <tr>\n",
       "      <th>174</th>\n",
       "      <td>200</td>\n",
       "      <td>40</td>\n",
       "      <td>52.0</td>\n",
       "      <td>0.136932</td>\n",
       "      <td>0.155379</td>\n",
       "    </tr>\n",
       "    <tr>\n",
       "      <th>175</th>\n",
       "      <td>200</td>\n",
       "      <td>40</td>\n",
       "      <td>60.0</td>\n",
       "      <td>0.115512</td>\n",
       "      <td>0.131249</td>\n",
       "    </tr>\n",
       "  </tbody>\n",
       "</table>\n",
       "<p>85 rows × 5 columns</p>\n",
       "</div>"
      ],
      "text/plain": [
       "       n   d  lamb  pp_test_mean  jorg_test_mean\n",
       "15    50  10   5.0      0.874519        1.024707\n",
       "16    50  10   7.0      0.574642        0.668768\n",
       "17    50  10   9.0      0.425271        0.495028\n",
       "18    50  10  10.0      0.375018        0.437510\n",
       "19    50  10  11.0      0.325831        0.383477\n",
       "..   ...  ..   ...           ...             ...\n",
       "171  200  40  36.0      0.216584        0.250591\n",
       "172  200  40  40.0      0.192189        0.221195\n",
       "173  200  40  44.0      0.169382        0.194741\n",
       "174  200  40  52.0      0.136932        0.155379\n",
       "175  200  40  60.0      0.115512        0.131249\n",
       "\n",
       "[85 rows x 5 columns]"
      ]
     },
     "execution_count": 27,
     "metadata": {},
     "output_type": "execute_result"
    }
   ],
   "source": [
    "df_good_generalization = df[df['pp_test_mean'] < 1][['n','d','lamb', 'pp_test_mean','jorg_test_mean']]\n",
    "df_good_generalization.sort_values(by=['pp_test_mean'], ascending=True)\n",
    "df_good_generalization"
   ]
  },
  {
   "cell_type": "code",
   "execution_count": 69,
   "id": "e8b04db6",
   "metadata": {},
   "outputs": [
    {
     "data": {
      "text/plain": [
       "140"
      ]
     },
     "execution_count": 69,
     "metadata": {},
     "output_type": "execute_result"
    }
   ],
   "source": [
    "((df['jorg_test_mean'] >= 1) | (df['pp_test_mean'] >= 1)).sum()"
   ]
  },
  {
   "cell_type": "code",
   "execution_count": 68,
   "id": "26902924",
   "metadata": {},
   "outputs": [
    {
     "data": {
      "text/plain": [
       "(140, 131)"
      ]
     },
     "execution_count": 68,
     "metadata": {},
     "output_type": "execute_result"
    }
   ],
   "source": [
    "(df['jorg_test_mean'] >= 1).sum(), (df['pp_test_mean'] >= 1).sum()"
   ]
  },
  {
   "cell_type": "code",
   "execution_count": 56,
   "id": "6bac1f6c",
   "metadata": {},
   "outputs": [
    {
     "data": {
      "text/plain": [
       "Counter({0.01: 16,\n",
       "         0.05: 16,\n",
       "         0.1: 16,\n",
       "         0.3: 16,\n",
       "         0.5: 14,\n",
       "         0.7: 11,\n",
       "         0.9: 10,\n",
       "         1.0: 9,\n",
       "         1.1: 9,\n",
       "         1.3: 7,\n",
       "         1.5: 7})"
      ]
     },
     "execution_count": 56,
     "metadata": {},
     "output_type": "execute_result"
    }
   ],
   "source": [
    "Counter(df[df['pp_test_mean'] >= 1]['lamb'])"
   ]
  },
  {
   "cell_type": "code",
   "execution_count": 108,
   "id": "40e611eb",
   "metadata": {},
   "outputs": [],
   "source": [
    "fracs, lambs = df['frac_train'].unique(), df['lamb'].unique()"
   ]
  },
  {
   "cell_type": "code",
   "execution_count": 109,
   "id": "643f0aee",
   "metadata": {},
   "outputs": [
    {
     "data": {
      "text/plain": [
       "(array([0.1, 0.2, 0.3, 0.4, 0.5, 0.6, 0.7, 0.8, 0.9, 1. ]),\n",
       " array([0.01, 0.05, 0.1 , 0.3 , 0.5 , 0.7 , 0.9 , 1.  , 1.1 , 1.3 , 1.5 ]))"
      ]
     },
     "execution_count": 109,
     "metadata": {},
     "output_type": "execute_result"
    }
   ],
   "source": [
    "fracs, lambs"
   ]
  },
  {
   "cell_type": "code",
   "execution_count": 18,
   "id": "6598504d",
   "metadata": {},
   "outputs": [
    {
     "data": {
      "text/plain": [
       "(110, 10)"
      ]
     },
     "execution_count": 18,
     "metadata": {},
     "output_type": "execute_result"
    }
   ],
   "source": [
    "df.shape"
   ]
  },
  {
   "cell_type": "code",
   "execution_count": 96,
   "id": "11b6a86d",
   "metadata": {},
   "outputs": [
    {
     "data": {
      "text/plain": [
       "(99     224496.952230\n",
       " 100      1884.837766\n",
       " 101       252.787688\n",
       " 102        10.424590\n",
       " 103         2.486158\n",
       " 104         0.983013\n",
       " 105         0.515536\n",
       " 106         0.392844\n",
       " 107         0.312560\n",
       " 108         0.213891\n",
       " 109         0.157115\n",
       " Name: jorg_test_mean, dtype: float64,\n",
       " 99     141324.475839\n",
       " 100      1228.640519\n",
       " 101       161.320140\n",
       " 102         6.636587\n",
       " 103         1.583218\n",
       " 104         0.636249\n",
       " 105         0.337898\n",
       " 106         0.261590\n",
       " 107         0.210632\n",
       " 108         0.151100\n",
       " 109         0.115731\n",
       " Name: pp_test_mean, dtype: float64)"
      ]
     },
     "execution_count": 96,
     "metadata": {},
     "output_type": "execute_result"
    }
   ],
   "source": [
    "df[df['frac_train'] == 0.1]['jorg_test_mean'], df[df['frac_train'] == 0.1]['pp_test_mean']\n",
    "\n",
    "df[df['frac_train'] == 1.0]['jorg_test_mean'], df[df['frac_train'] == 1.0]['pp_test_mean']"
   ]
  },
  {
   "cell_type": "code",
   "execution_count": 35,
   "id": "1a3f1855",
   "metadata": {},
   "outputs": [
    {
     "data": {
      "text/plain": [
       "110     0.3\n",
       "111     1.5\n",
       "112     3.0\n",
       "113     9.0\n",
       "114    15.0\n",
       "115    21.0\n",
       "116    27.0\n",
       "117    30.0\n",
       "118    33.0\n",
       "119    39.0\n",
       "120    45.0\n",
       "Name: lamb, dtype: float64"
      ]
     },
     "execution_count": 35,
     "metadata": {},
     "output_type": "execute_result"
    }
   ],
   "source": [
    "dfd[dfd['n'] == n_tr]['lamb']"
   ]
  },
  {
   "cell_type": "code",
   "execution_count": 69,
   "id": "a4f6cd0a",
   "metadata": {},
   "outputs": [],
   "source": [
    "lamb_arr = [10**5, 10**6, 10**7]"
   ]
  },
  {
   "cell_type": "code",
   "execution_count": 70,
   "id": "50662142",
   "metadata": {},
   "outputs": [
    {
     "name": "stdout",
     "output_type": "stream",
     "text": [
      "Expt 1 done, lambda 100000\n",
      "Expt 2 done, lambda 1000000\n",
      "Expt 3 done, lambda 10000000\n"
     ]
    }
   ],
   "source": [
    "N = 100\n",
    "d = 30\n",
    "runs = 10000\n",
    "X, y = generate_linear_data(n = N, d = d, sigma = 0)\n",
    "X_train, X_test, y_train, y_test = train_test_split(X, y, test_size = 0.25, random_state = 21)\n",
    "N_train, N_test = len(X_train), len(X_test)\n",
    "epsilons = epsilons_34_43_23(N_train)\n",
    "list_of_results = []\n",
    "i = 0\n",
    "for lamb in lamb_arr:\n",
    "    lamb = lamb\n",
    "    pp_unw_train_mean, pp_unw_train_std, pp_w_test_mean, pp_w_test_std = pp_estimator(epsilons, X_train, y_train, X_test, y_test, lamb, runs)\n",
    "    jorg_unw_train_mean, jorg_unw_train_std, jorg_w_test_mean, jorg_w_test_std = jorgensen_private_estimator(epsilons, X_train, y_train, X_test, y_test, lamb, runs)    \n",
    "    di = {\"d\": d,\n",
    "        \"n\": n,\n",
    "        \"lamb\": lamb,\n",
    "        \"pp_train_mean\": pp_unw_train_mean,\n",
    "        \"pp_train_std\": pp_unw_train_std,\n",
    "        \"pp_test_mean\": pp_w_test_mean,\n",
    "        \"pp_test_std\": pp_w_test_std,\n",
    "        \"jorg_train_mean\": jorg_unw_train_mean,\n",
    "        \"jorg_train_std\": jorg_unw_train_std,\n",
    "        \"jorg_test_mean\": jorg_w_test_mean,\n",
    "        \"jorg_test_std\": jorg_w_test_std}\n",
    "    i += 1\n",
    "    print(f\"Expt {i} done, lambda {lamb}\")\n",
    "    list_of_results.append(di)\n",
    "df = pd.DataFrame(list_of_results)"
   ]
  },
  {
   "cell_type": "code",
   "execution_count": 51,
   "id": "5866f018",
   "metadata": {},
   "outputs": [
    {
     "data": {
      "text/plain": [
       "Index(['d', 'n', 'lamb', 'pp_train_mean', 'pp_train_std', 'pp_test_mean',\n",
       "       'pp_test_std', 'jorg_train_mean', 'jorg_train_std', 'jorg_test_mean',\n",
       "       'jorg_test_std'],\n",
       "      dtype='object')"
      ]
     },
     "execution_count": 51,
     "metadata": {},
     "output_type": "execute_result"
    }
   ],
   "source": [
    "df.columns"
   ]
  },
  {
   "cell_type": "code",
   "execution_count": 68,
   "id": "958efa87",
   "metadata": {},
   "outputs": [
    {
     "data": {
      "text/plain": [
       "0.005401626795681264"
      ]
     },
     "execution_count": 68,
     "metadata": {},
     "output_type": "execute_result"
    }
   ],
   "source": [
    "((np.sum(y**2))**0.5)/100"
   ]
  },
  {
   "cell_type": "code",
   "execution_count": 71,
   "id": "fe68ec14",
   "metadata": {},
   "outputs": [
    {
     "data": {
      "text/plain": [
       "Text(0, 0.5, 'rmse')"
      ]
     },
     "execution_count": 71,
     "metadata": {},
     "output_type": "execute_result"
    },
    {
     "data": {
      "image/png": "[encoded data removed]",
      "text/plain": [
       "<Figure size 640x480 with 1 Axes>"
      ]
     },
     "metadata": {},
     "output_type": "display_data"
    }
   ],
   "source": [
    "si = 0 # starting index  \n",
    "pp_test = df['pp_test_mean'][si:]\n",
    "jorg_test = df['jorg_test_mean'][si:]\n",
    "\n",
    "plt.plot(lamb_arr[si:], pp_test)\n",
    "plt.plot(lamb_arr[si:], jorg_test)\n",
    "\n",
    "plt.xlabel('lambda')\n",
    "plt.ylabel('rmse')"
   ]
  },
  {
   "cell_type": "code",
   "execution_count": 34,
   "id": "c0872d0e",
   "metadata": {},
   "outputs": [
    {
     "data": {
      "text/plain": [
       "Text(0, 0.5, 'rmse')"
      ]
     },
     "execution_count": 34,
     "metadata": {},
     "output_type": "execute_result"
    },
    {
     "data": {
      "image/png": "[encoded data removed]",
      "text/plain": [
       "<Figure size 640x480 with 1 Axes>"
      ]
     },
     "metadata": {},
     "output_type": "display_data"
    }
   ],
   "source": [
    "si = 5\n",
    "n_tr = 100\n",
    "d = 30\n",
    "\n",
    "dfd = df[df['d'] == d]\n",
    "plt.plot(dfd[dfd['n'] == n_tr]['lamb'][si:], dfd[dfd['n'] == n_tr]['pp_test_mean'][si:])\n",
    "plt.plot(dfd[dfd['n'] == n_tr]['lamb'][si:], dfd[dfd['n'] == n_tr]['jorg_test_mean'][si:])\n",
    "plt.xlabel('lambda')\n",
    "plt.ylabel('rmse')"
   ]
  },
  {
   "cell_type": "code",
   "execution_count": 14,
   "id": "09fa195c",
   "metadata": {},
   "outputs": [
    {
     "data": {
      "text/plain": [
       "0.18257418583505536"
      ]
     },
     "execution_count": 14,
     "metadata": {},
     "output_type": "execute_result"
    }
   ],
   "source": [
    "1/30**0.5"
   ]
  },
  {
   "cell_type": "code",
   "execution_count": 19,
   "id": "9f252540",
   "metadata": {},
   "outputs": [
    {
     "name": "stdout",
     "output_type": "stream",
     "text": [
      "11\n",
      "11\n",
      "11\n",
      "11\n",
      "11\n",
      "11\n",
      "11\n",
      "11\n",
      "11\n",
      "11\n",
      "11\n",
      "11\n",
      "11\n",
      "11\n",
      "11\n",
      "11\n",
      "11\n",
      "11\n",
      "11\n",
      "11\n",
      "11\n",
      "11\n",
      "11\n",
      "11\n",
      "11\n",
      "11\n",
      "11\n",
      "11\n",
      "11\n",
      "11\n",
      "11\n",
      "11\n",
      "11\n",
      "11\n",
      "11\n",
      "11\n",
      "11\n",
      "11\n",
      "11\n",
      "11\n",
      "11\n",
      "11\n",
      "11\n",
      "11\n",
      "11\n",
      "11\n",
      "11\n",
      "11\n",
      "11\n",
      "11\n",
      "11\n",
      "11\n",
      "11\n",
      "11\n",
      "11\n",
      "11\n",
      "11\n",
      "11\n",
      "11\n",
      "11\n",
      "11\n",
      "11\n",
      "11\n",
      "11\n",
      "11\n",
      "11\n",
      "11\n",
      "11\n",
      "11\n",
      "11\n",
      "11\n",
      "11\n",
      "11\n",
      "11\n",
      "11\n",
      "11\n",
      "11\n",
      "11\n",
      "11\n",
      "11\n",
      "11\n",
      "11\n",
      "11\n",
      "11\n",
      "11\n",
      "11\n",
      "11\n",
      "11\n",
      "11\n",
      "11\n",
      "11\n",
      "11\n",
      "11\n",
      "11\n",
      "11\n",
      "11\n",
      "11\n",
      "11\n",
      "11\n",
      "11\n",
      "11\n",
      "11\n",
      "11\n",
      "11\n",
      "11\n",
      "11\n",
      "11\n",
      "11\n",
      "11\n",
      "11\n"
     ]
    }
   ],
   "source": [
    "for frac in fracs:\n",
    "  df_frac = df[df['frac_train'] == frac]\n",
    "  res_frac = []\n",
    "  for lamb in lambs:\n",
    "    print(len(df_frac[df_frac['lamb'] == lamb]))"
   ]
  },
  {
   "cell_type": "code",
   "execution_count": 5,
   "id": "a130c87a",
   "metadata": {},
   "outputs": [
    {
     "data": {
      "text/html": [
       "<div>\n",
       "<style scoped>\n",
       "    .dataframe tbody tr th:only-of-type {\n",
       "        vertical-align: middle;\n",
       "    }\n",
       "\n",
       "    .dataframe tbody tr th {\n",
       "        vertical-align: top;\n",
       "    }\n",
       "\n",
       "    .dataframe thead th {\n",
       "        text-align: right;\n",
       "    }\n",
       "</style>\n",
       "<table border=\"1\" class=\"dataframe\">\n",
       "  <thead>\n",
       "    <tr style=\"text-align: right;\">\n",
       "      <th></th>\n",
       "      <th>frac_train</th>\n",
       "      <th>lamb</th>\n",
       "      <th>pp_train_mean</th>\n",
       "      <th>pp_train_std</th>\n",
       "      <th>pp_test_mean</th>\n",
       "      <th>pp_test_std</th>\n",
       "      <th>jorg_train_mean</th>\n",
       "      <th>jorg_train_std</th>\n",
       "      <th>jorg_test_mean</th>\n",
       "      <th>jorg_test_std</th>\n",
       "    </tr>\n",
       "  </thead>\n",
       "  <tbody>\n",
       "  </tbody>\n",
       "</table>\n",
       "</div>"
      ],
      "text/plain": [
       "Empty DataFrame\n",
       "Columns: [frac_train, lamb, pp_train_mean, pp_train_std, pp_test_mean, pp_test_std, jorg_train_mean, jorg_train_std, jorg_test_mean, jorg_test_std]\n",
       "Index: []"
      ]
     },
     "execution_count": 5,
     "metadata": {},
     "output_type": "execute_result"
    }
   ],
   "source": [
    "df[df[\"jorg_train_mean\"] <= df[\"pp_train_mean\"]]"
   ]
  },
  {
   "cell_type": "code",
   "execution_count": 6,
   "id": "a2dbd366",
   "metadata": {},
   "outputs": [
    {
     "data": {
      "text/html": [
       "<div>\n",
       "<style scoped>\n",
       "    .dataframe tbody tr th:only-of-type {\n",
       "        vertical-align: middle;\n",
       "    }\n",
       "\n",
       "    .dataframe tbody tr th {\n",
       "        vertical-align: top;\n",
       "    }\n",
       "\n",
       "    .dataframe thead th {\n",
       "        text-align: right;\n",
       "    }\n",
       "</style>\n",
       "<table border=\"1\" class=\"dataframe\">\n",
       "  <thead>\n",
       "    <tr style=\"text-align: right;\">\n",
       "      <th></th>\n",
       "      <th>frac_train</th>\n",
       "      <th>lamb</th>\n",
       "      <th>pp_train_mean</th>\n",
       "      <th>pp_train_std</th>\n",
       "      <th>pp_test_mean</th>\n",
       "      <th>pp_test_std</th>\n",
       "      <th>jorg_train_mean</th>\n",
       "      <th>jorg_train_std</th>\n",
       "      <th>jorg_test_mean</th>\n",
       "      <th>jorg_test_std</th>\n",
       "    </tr>\n",
       "  </thead>\n",
       "  <tbody>\n",
       "  </tbody>\n",
       "</table>\n",
       "</div>"
      ],
      "text/plain": [
       "Empty DataFrame\n",
       "Columns: [frac_train, lamb, pp_train_mean, pp_train_std, pp_test_mean, pp_test_std, jorg_train_mean, jorg_train_std, jorg_test_mean, jorg_test_std]\n",
       "Index: []"
      ]
     },
     "execution_count": 6,
     "metadata": {},
     "output_type": "execute_result"
    }
   ],
   "source": [
    "df[df[\"jorg_test_mean\"] <= df[\"pp_test_mean\"]]"
   ]
  },
  {
   "cell_type": "code",
   "execution_count": 7,
   "id": "689d6327",
   "metadata": {},
   "outputs": [
    {
     "data": {
      "text/plain": [
       "False    82\n",
       "True     28\n",
       "Name: pp_test_mean, dtype: int64"
      ]
     },
     "execution_count": 7,
     "metadata": {},
     "output_type": "execute_result"
    }
   ],
   "source": [
    "(df[\"pp_test_mean\"]>=1.0).value_counts() # wherever mean error > 1 "
   ]
  },
  {
   "cell_type": "code",
   "execution_count": 8,
   "id": "a21e5758",
   "metadata": {},
   "outputs": [
    {
     "data": {
      "text/plain": [
       "0.01    10\n",
       "0.05    10\n",
       "0.10     7\n",
       "0.30     1\n",
       "Name: lamb, dtype: int64"
      ]
     },
     "execution_count": 8,
     "metadata": {},
     "output_type": "execute_result"
    }
   ],
   "source": [
    "df[df[\"pp_test_mean\"]>=1.0]['lamb'].value_counts()"
   ]
  },
  {
   "cell_type": "code",
   "execution_count": 118,
   "id": "872919db",
   "metadata": {},
   "outputs": [],
   "source": [
    "df['jorg_minus_pp_test'] = df[\"jorg_test_mean\"] - df[\"pp_test_mean\"]# difference between jorgensen and ours on test"
   ]
  },
  {
   "cell_type": "code",
   "execution_count": 101,
   "id": "0f1f7c1d",
   "metadata": {},
   "outputs": [
    {
     "data": {
      "text/plain": [
       "count    1.100000e+02\n",
       "mean     1.253646e+05\n",
       "std      8.958567e+05\n",
       "min      4.138458e-02\n",
       "25%      3.836532e-01\n",
       "50%      3.001106e+00\n",
       "75%      1.844665e+02\n",
       "max      9.137212e+06\n",
       "Name: jorg_minus_pp_test, dtype: float64"
      ]
     },
     "execution_count": 101,
     "metadata": {},
     "output_type": "execute_result"
    }
   ],
   "source": [
    "df['jorg_minus_pp_test'].describe()"
   ]
  },
  {
   "cell_type": "code",
   "execution_count": 119,
   "id": "e65f46de",
   "metadata": {},
   "outputs": [],
   "source": [
    "df['%_from_jorg_test'] = 100 * df['jorg_minus_pp_test'] / df[\"jorg_test_mean\"]"
   ]
  },
  {
   "cell_type": "code",
   "execution_count": 103,
   "id": "5015d855",
   "metadata": {},
   "outputs": [
    {
     "data": {
      "text/plain": [
       "count    110.000000\n",
       "mean      35.813674\n",
       "std        2.351464\n",
       "min       26.340272\n",
       "25%       35.179644\n",
       "50%       36.341033\n",
       "75%       37.147212\n",
       "max       40.138966\n",
       "Name: %_from_jorg_test, dtype: float64"
      ]
     },
     "execution_count": 103,
     "metadata": {},
     "output_type": "execute_result"
    }
   ],
   "source": [
    "df['%_from_jorg_test'].describe() # with 54"
   ]
  },
  {
   "cell_type": "code",
   "execution_count": 120,
   "id": "b50474ff",
   "metadata": {},
   "outputs": [
    {
     "data": {
      "text/plain": [
       "count    110.000000\n",
       "mean      24.377524\n",
       "std        2.754119\n",
       "min       14.343887\n",
       "25%       23.884898\n",
       "50%       25.027060\n",
       "75%       26.179536\n",
       "max       27.993348\n",
       "Name: %_from_jorg_test, dtype: float64"
      ]
     },
     "execution_count": 120,
     "metadata": {},
     "output_type": "execute_result"
    }
   ],
   "source": [
    "df['%_from_jorg_test'].describe() # with 34"
   ]
  },
  {
   "cell_type": "code",
   "execution_count": 75,
   "id": "7d945783",
   "metadata": {},
   "outputs": [],
   "source": [
    "from src.utils import generate_linear_data"
   ]
  },
  {
   "cell_type": "code",
   "execution_count": 83,
   "id": "6079e5da",
   "metadata": {},
   "outputs": [],
   "source": [
    "X,y = generate_linear_data(100, 100, 0)"
   ]
  },
  {
   "cell_type": "code",
   "execution_count": 82,
   "id": "2517c21b",
   "metadata": {},
   "outputs": [
    {
     "data": {
      "text/plain": [
       "array([0.73706959, 0.69739452, 0.4186397 , 1.19505064])"
      ]
     },
     "execution_count": 82,
     "metadata": {},
     "output_type": "execute_result"
    }
   ],
   "source": [
    "np.linalg.norm(X, axis=1)"
   ]
  },
  {
   "cell_type": "code",
   "execution_count": 86,
   "id": "0e55bb96",
   "metadata": {},
   "outputs": [
    {
     "data": {
      "text/plain": [
       "6.491934149576997"
      ]
     },
     "execution_count": 86,
     "metadata": {},
     "output_type": "execute_result"
    }
   ],
   "source": [
    "max(np.linalg.norm(X, axis=1))"
   ]
  },
  {
   "cell_type": "code",
   "execution_count": 81,
   "id": "91f8cad0",
   "metadata": {},
   "outputs": [
    {
     "data": {
      "text/plain": [
       "1.7320508075688772"
      ]
     },
     "execution_count": 81,
     "metadata": {},
     "output_type": "execute_result"
    }
   ],
   "source": [
    "3**0.5"
   ]
  },
  {
   "cell_type": "code",
   "execution_count": 87,
   "id": "34dc1eec",
   "metadata": {},
   "outputs": [
    {
     "data": {
      "text/plain": [
       "25.0"
      ]
     },
     "execution_count": 87,
     "metadata": {},
     "output_type": "execute_result"
    }
   ],
   "source": [
    "1/4*100"
   ]
  },
  {
   "cell_type": "code",
   "execution_count": null,
   "id": "216419c8",
   "metadata": {},
   "outputs": [],
   "source": []
  }
 ],
 "metadata": {
  "kernelspec": {
   "display_name": "local_multigroup",
   "language": "python",
   "name": "local_multigroup"
  },
  "language_info": {
   "codemirror_mode": {
    "name": "ipython",
    "version": 3
   },
   "file_extension": ".py",
   "mimetype": "text/x-python",
   "name": "python",
   "nbconvert_exporter": "python",
   "pygments_lexer": "ipython3",
   "version": "3.10.9"
  }
 },
 "nbformat": 4,
 "nbformat_minor": 5
}
