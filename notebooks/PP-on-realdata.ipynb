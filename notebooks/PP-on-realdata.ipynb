{
 "cells": [
  {
   "cell_type": "code",
   "execution_count": 1,
   "metadata": {
    "id": "MayjuI8twv0v"
   },
   "outputs": [],
   "source": [
    "import numpy as np\n",
    "import math\n",
    "import matplotlib.pyplot as plt\n",
    "import pandas as pd\n",
    "from utils import *"
   ]
  },
  {
   "cell_type": "markdown",
   "metadata": {},
   "source": [
    "# INSURANCE DATASET"
   ]
  },
  {
   "cell_type": "code",
   "execution_count": 2,
   "metadata": {},
   "outputs": [],
   "source": [
    "from sklearn.preprocessing import MinMaxScaler\n",
    "from sklearn.preprocessing import normalize, minmax_scale\n",
    "\n",
    "def one_hot(df, cols): # idk if sklearns one-hot encoder is similar\n",
    "    \"\"\"\n",
    "    df: pandas DataFrame\n",
    "    param: cols a list of columns to encode \n",
    "    return a DataFrame with one-hot encoding\n",
    "    \"\"\"\n",
    "    for each in cols:\n",
    "        dummies = pd.get_dummies(df[each], prefix=each, drop_first=False)\n",
    "        df = pd.concat([df, dummies], axis=1)\n",
    "    return df\n",
    "def numeric_scaler(df, cols):\n",
    "    '''\n",
    "    df: pandas dataframe\n",
    "    numeric_cols: (array of strings) column names for numeric variables\n",
    "\n",
    "    no return: does inplace operation\n",
    "    '''\n",
    "    df_new = df.copy()\n",
    "    mmscaler = MinMaxScaler()\n",
    "    df_new[cols] = mmscaler.fit_transform(df_new[cols])\n",
    "    return df_new"
   ]
  },
  {
   "cell_type": "code",
   "execution_count": 4,
   "metadata": {},
   "outputs": [],
   "source": [
    "df_medical = pd.read_csv('insurance.csv')"
   ]
  },
  {
   "cell_type": "code",
   "execution_count": 5,
   "metadata": {},
   "outputs": [
    {
     "data": {
      "text/html": [
       "<div>\n",
       "<style scoped>\n",
       "    .dataframe tbody tr th:only-of-type {\n",
       "        vertical-align: middle;\n",
       "    }\n",
       "\n",
       "    .dataframe tbody tr th {\n",
       "        vertical-align: top;\n",
       "    }\n",
       "\n",
       "    .dataframe thead th {\n",
       "        text-align: right;\n",
       "    }\n",
       "</style>\n",
       "<table border=\"1\" class=\"dataframe\">\n",
       "  <thead>\n",
       "    <tr style=\"text-align: right;\">\n",
       "      <th></th>\n",
       "      <th>age</th>\n",
       "      <th>sex</th>\n",
       "      <th>bmi</th>\n",
       "      <th>children</th>\n",
       "      <th>smoker</th>\n",
       "      <th>region</th>\n",
       "      <th>charges</th>\n",
       "    </tr>\n",
       "  </thead>\n",
       "  <tbody>\n",
       "    <tr>\n",
       "      <th>0</th>\n",
       "      <td>19</td>\n",
       "      <td>female</td>\n",
       "      <td>27.900</td>\n",
       "      <td>0</td>\n",
       "      <td>yes</td>\n",
       "      <td>southwest</td>\n",
       "      <td>16884.92400</td>\n",
       "    </tr>\n",
       "    <tr>\n",
       "      <th>1</th>\n",
       "      <td>18</td>\n",
       "      <td>male</td>\n",
       "      <td>33.770</td>\n",
       "      <td>1</td>\n",
       "      <td>no</td>\n",
       "      <td>southeast</td>\n",
       "      <td>1725.55230</td>\n",
       "    </tr>\n",
       "    <tr>\n",
       "      <th>2</th>\n",
       "      <td>28</td>\n",
       "      <td>male</td>\n",
       "      <td>33.000</td>\n",
       "      <td>3</td>\n",
       "      <td>no</td>\n",
       "      <td>southeast</td>\n",
       "      <td>4449.46200</td>\n",
       "    </tr>\n",
       "    <tr>\n",
       "      <th>3</th>\n",
       "      <td>33</td>\n",
       "      <td>male</td>\n",
       "      <td>22.705</td>\n",
       "      <td>0</td>\n",
       "      <td>no</td>\n",
       "      <td>northwest</td>\n",
       "      <td>21984.47061</td>\n",
       "    </tr>\n",
       "    <tr>\n",
       "      <th>4</th>\n",
       "      <td>32</td>\n",
       "      <td>male</td>\n",
       "      <td>28.880</td>\n",
       "      <td>0</td>\n",
       "      <td>no</td>\n",
       "      <td>northwest</td>\n",
       "      <td>3866.85520</td>\n",
       "    </tr>\n",
       "  </tbody>\n",
       "</table>\n",
       "</div>"
      ],
      "text/plain": [
       "   age     sex     bmi  children smoker     region      charges\n",
       "0   19  female  27.900         0    yes  southwest  16884.92400\n",
       "1   18    male  33.770         1     no  southeast   1725.55230\n",
       "2   28    male  33.000         3     no  southeast   4449.46200\n",
       "3   33    male  22.705         0     no  northwest  21984.47061\n",
       "4   32    male  28.880         0     no  northwest   3866.85520"
      ]
     },
     "execution_count": 5,
     "metadata": {},
     "output_type": "execute_result"
    }
   ],
   "source": [
    "df_medical.head()"
   ]
  },
  {
   "cell_type": "code",
   "execution_count": 6,
   "metadata": {},
   "outputs": [],
   "source": [
    "numeric_all = ['age', 'bmi', 'children', 'charges']\n",
    "cat_all = ['sex', 'smoker', 'region']\n",
    "\n",
    "df_medical_mm = numeric_scaler(df_medical, numeric_all)\n",
    "df_medical_mm_oh = one_hot(df_medical_mm, cat_all)\n",
    "df_medical_mm_oh.drop(cat_all, axis = 1, inplace=True) # drop the categorics that were used to one hot encode\n",
    "df_medical_mm_oh = df_medical_mm_oh * 1.0 # make bool true, false into 1.0, 0.0"
   ]
  },
  {
   "cell_type": "code",
   "execution_count": 7,
   "metadata": {},
   "outputs": [],
   "source": [
    "X = df_medical_mm_oh.drop('charges', axis=1).to_numpy()\n",
    "y = df_medical_mm_oh['charges'].to_numpy()\n",
    "X = normalize(X, norm='l2') # each row is L2 normalized\n",
    "# y = minmax_scale(y)"
   ]
  },
  {
   "cell_type": "code",
   "execution_count": 8,
   "metadata": {},
   "outputs": [],
   "source": [
    "n, d = X.shape\n",
    "lamb = 1.0\n",
    "epsilons = np.array([0.1]*(n//2) + [1]*(n//2)) # has to be even"
   ]
  },
  {
   "cell_type": "markdown",
   "metadata": {},
   "source": [
    "### Personalized privacy"
   ]
  },
  {
   "cell_type": "code",
   "execution_count": 9,
   "metadata": {},
   "outputs": [
    {
     "name": "stdout",
     "output_type": "stream",
     "text": [
      "pluggin exact soln back into weighted ridge 0.06143817955856497\n",
      "beta for pp 183.975\n",
      "unweighted_erm_using_privateestimator 0.06655792595723549 0.002727000097420593\n",
      "weighted_erm_using_privateestimator 0.06573730981382604 0.0027242980407818527\n"
     ]
    }
   ],
   "source": [
    "tot_epsilon = np.sum(epsilons)\n",
    "weights_pp = epsilons/tot_epsilon # weights used in the ridge regression for personalized privacy\n",
    "\n",
    "sol_exact_ridge_pp = weighted_rls_solution(weights_pp, X, y, lamb)\n",
    "print(\"pluggin exact soln back into weighted ridge\", evaluate_weighted_rls_objective(sol_exact_ridge_pp, weights_pp, X, y, lamb))\n",
    "beta_pp = compute_beta(lamb, tot_epsilon)\n",
    "print(\"beta for pp\", beta_pp)\n",
    "# to loop the part below\n",
    "runs = 1000\n",
    "unweighted_erm = []\n",
    "weighted_erm = []\n",
    "for _ in range(runs):\n",
    "  theta_hat_pp = compute_private_estimator(sol_exact_ridge_pp, beta_pp , d)\n",
    "  unweighted_erm.append(evaluate_weighted_rls_objective(theta_hat_pp, np.ones(n)/n, X, y, lamb))\n",
    "  weighted_erm.append(evaluate_weighted_rls_objective(theta_hat_pp, weights_pp, X, y, lamb))\n",
    "print(\"unweighted_erm_using_privateestimator\", np.mean(unweighted_erm), np.std(unweighted_erm)) # WE care about low values here!\n",
    "print(\"weighted_erm_using_privateestimator\", np.mean(weighted_erm), np.std(weighted_erm))"
   ]
  },
  {
   "cell_type": "markdown",
   "metadata": {},
   "source": [
    "### Not personalized privacy"
   ]
  },
  {
   "cell_type": "code",
   "execution_count": 10,
   "metadata": {},
   "outputs": [
    {
     "name": "stdout",
     "output_type": "stream",
     "text": [
      "pluggin exact soln back into unweighted ridge 0.06224927666537697\n",
      "beta for not 33.45\n",
      "unweighted_erm_using_privateestimator 0.18849493792526198 0.07568791464765202\n",
      "weighted_erm_using_privateestimator 0.18849493792526198 0.07568791464765202\n"
     ]
    }
   ],
   "source": [
    "tot_epsilon = min(epsilons) * n\n",
    "weights_npp = np.ones(n) / n\n",
    "\n",
    "sol_exact_ridge_npp = weighted_rls_solution(weights_npp, X, y, lamb)\n",
    "print(\"pluggin exact soln back into unweighted ridge\", evaluate_weighted_rls_objective(sol_exact_ridge_npp, weights_npp, X, y, lamb))\n",
    "beta_npp = compute_beta(lamb, tot_epsilon)\n",
    "print(\"beta for not\",beta_npp)\n",
    "# to loop the part below\n",
    "runs = 1000\n",
    "unweighted_erm = []\n",
    "weighted_erm = []\n",
    "for _ in range(runs):\n",
    "  theta_hat_npp = compute_private_estimator(sol_exact_ridge_npp, beta_npp , d)\n",
    "  unweighted_erm.append(evaluate_weighted_rls_objective(theta_hat_npp, np.ones(n)/n, X, y, lamb))\n",
    "  weighted_erm.append(evaluate_weighted_rls_objective(theta_hat_npp, weights_npp, X, y, lamb))\n",
    "print(\"unweighted_erm_using_privateestimator\", np.mean(unweighted_erm), np.std(unweighted_erm)) # WE care about low values here!\n",
    "print(\"weighted_erm_using_privateestimator\", np.mean(weighted_erm), np.std(weighted_erm))"
   ]
  }
 ],
 "metadata": {
  "colab": {
   "provenance": []
  },
  "kernelspec": {
   "display_name": "local_multigroup",
   "language": "python",
   "name": "local_multigroup"
  },
  "language_info": {
   "codemirror_mode": {
    "name": "ipython",
    "version": 3
   },
   "file_extension": ".py",
   "mimetype": "text/x-python",
   "name": "python",
   "nbconvert_exporter": "python",
   "pygments_lexer": "ipython3",
   "version": "3.10.9"
  }
 },
 "nbformat": 4,
 "nbformat_minor": 1
}
